{
 "cells": [
  {
   "cell_type": "code",
   "execution_count": 1,
   "id": "a699a208",
   "metadata": {},
   "outputs": [
    {
     "name": "stdout",
     "output_type": "stream",
     "text": [
      "640.0\n",
      "480.0\n",
      "640.0\n",
      "480.0\n"
     ]
    }
   ],
   "source": [
    "import cv2\n",
    "\n",
    "cam = cv2.VideoCapture(0)\n",
    "\n",
    "print(cam.get(cv2.CAP_PROP_FRAME_WIDTH))\n",
    "print(cam.get(cv2.CAP_PROP_FRAME_HEIGHT))\n",
    "\n",
    "cam.set(cv2.CAP_PROP_FRAME_WIDTH,1280)\n",
    "cam.set(cv2.CAP_PROP_FRAME_HEIGHT,720)\n",
    "\n",
    "print(cam.get(cv2.CAP_PROP_FRAME_WIDTH))\n",
    "print(cam.get(cv2.CAP_PROP_FRAME_HEIGHT))\n",
    "\n",
    "while (cam.isOpened()) :\n",
    "    success,frame = cam.read()\n",
    "    cv2.imshow(\"VideoFrame\",frame)\n",
    "    if cv2.waitKey(1) & 0xFF == ord('q'):\n",
    "        break\n",
    "cam.release()\n",
    "cv2.destroyAllWindows()"
   ]
  }
 ],
 "metadata": {
  "kernelspec": {
   "display_name": "Python 3 (ipykernel)",
   "language": "python",
   "name": "python3"
  },
  "language_info": {
   "codemirror_mode": {
    "name": "ipython",
    "version": 3
   },
   "file_extension": ".py",
   "mimetype": "text/x-python",
   "name": "python",
   "nbconvert_exporter": "python",
   "pygments_lexer": "ipython3",
   "version": "3.9.12"
  }
 },
 "nbformat": 4,
 "nbformat_minor": 5
}
